{
 "cells": [
  {
   "cell_type": "code",
   "execution_count": 149,
   "id": "d3a4e67d-2b30-4bab-8f9b-8aa2d2f77064",
   "metadata": {},
   "outputs": [],
   "source": [
    "# Manuseio de dados\n",
    "import pandas as pd\n",
    "import numpy as np\n",
    "\n",
    "# Graficos\n",
    "import matplotlib.pyplot as plt\n",
    "import matplotlib.dates as mdates\n",
    "import seaborn as sns\n",
    "\n",
    "#plt.style.use('dark_background')\n",
    "plt.style.use('seaborn-v0_8-whitegrid')\n",
    "\n",
    "import matplotlib.cm as cm\n",
    "#import matplotlib.font_manager as fm #para alterar as fontes dos graficos\n",
    "#fonte = fm.FontProperties(family=\"Calibri\", style=\"italic\")\n",
    "%matplotlib inline\n",
    "\n",
    "#ignorando Warning inuteis\n",
    "import warnings \n",
    "from pandas.errors import SettingWithCopyWarning\n",
    "warnings.simplefilter(action=\"ignore\", category=SettingWithCopyWarning)\n",
    "warnings.filterwarnings('ignore', category=FutureWarning)\n",
    "warnings.filterwarnings(\"ignore\", category=UserWarning, module='sklearn.cluster._kmeans')"
   ]
  },
  {
   "cell_type": "markdown",
   "id": "afe2bcd5",
   "metadata": {},
   "source": [
    "# TESTE 1:"
   ]
  },
  {
   "cell_type": "code",
   "execution_count": 150,
   "id": "4fb4506c",
   "metadata": {},
   "outputs": [
    {
     "name": "stdout",
     "output_type": "stream",
     "text": [
      "3883.5229100207416\n"
     ]
    }
   ],
   "source": [
    "# Gera um número aleatório dentro do intervalo\n",
    "import random\n",
    "\n",
    "min_value = 3856.95\n",
    "max_value = 4664.68\n",
    "\n",
    "random_number = random.uniform(min_value, max_value)\n",
    "print(random_number)"
   ]
  },
  {
   "cell_type": "code",
   "execution_count": 151,
   "id": "362ce05b-e4c8-4e52-b2e6-36d4d7fd7a89",
   "metadata": {},
   "outputs": [
    {
     "name": "stdout",
     "output_type": "stream",
     "text": [
      "********** SALARIO/ENTRADAS **********\n",
      "salario = 3883.52\n",
      "insalubridade = 282.4\n",
      "salario bruto = 4165.92 \n",
      "\n",
      "********** DESCONTOS/SAIDAS ********** \n",
      "\n",
      "***** INSS *****\n",
      "faixa de desconto INSS: ( 105.9 ; 112.92 ; 160.0 ; 23.23 )\n",
      "INSS = 402.05 \n",
      "\n",
      "***** OUTROS DESCONTOS *****\n",
      "dependentes = 189.59 \n",
      "\n",
      "***** I.R.R.F - imposto de renda *****\n",
      "base calculo = 3574.28 \n",
      "\n",
      "porcentagem I.R.R.F = 22.5%\n",
      "Dedução = 662.77\n",
      "I.R.R.F = 141.44 \n",
      "\n",
      "***** VALE TRANSPORTE *****\n",
      "Vale Transporte = 233.01 \n",
      "\n",
      "********** TOTAL DESCONTOS **********\n",
      "total descontos = 776.51 \n",
      "\n",
      "********** SALARIO LIQUIDO **********\n",
      "salario liquido = 3389.42\n"
     ]
    }
   ],
   "source": [
    "############################################################\n",
    "print('*'*10, 'SALARIO/ENTRADAS', '*'*10)\n",
    "\n",
    "\n",
    "salario = random_number\n",
    "print('salario =', round(salario,2))\n",
    "\n",
    "adicional_insalubridade = 282.4 # Grau médio # caso tenha                                                           \n",
    "print('insalubridade =', adicional_insalubridade)\n",
    "#fonte: https://genyo.com.br/adicional-de-insalubridade/\n",
    "\n",
    "salario_bruto = salario + adicional_insalubridade\n",
    "print('salario bruto =', round(salario_bruto,2), '\\n')\n",
    "\n",
    "\n",
    "############################################################\n",
    "print('*'*10, 'DESCONTOS/SAIDAS', '*'*10,'\\n')\n",
    "\n",
    "\n",
    "print('*'*5, 'INSS', '*'*5)\n",
    "# primeira parte -> até 1.412,00\n",
    "p1 = 1412*(7.5/100)\n",
    "# segunda parte -> 1.412,00 - 2.666,68\n",
    "p2 = (2666.68 - 1412.00)*(9/100)\n",
    "# terceira parte -> 2.666,68 - 4.000,03\n",
    "p3 = (4000.03 - 2666.68)*(12/100)\n",
    "# quarta parte -> 4.000,03 - 7.786,02\n",
    "p4 = (salario_bruto - 4000.03)*(14/100)\n",
    "print('faixa de desconto INSS: (', round(p1,2),';', round(p2,2),';', round(p3,2),';', round(p4,2), ')')\n",
    "\n",
    "INSS = round(p1+p2+p3+p4, 2)\n",
    "print('INSS =', INSS,'\\n')\n",
    "# fonte: https://www.bloomberglinea.com.br/2024/02/20/tabela-de-desconto-do-inss-2024-valores-e-como-calcula-los/\n",
    "# fonte: https://www.gov.br/inss/pt-br/assuntos/confira-as-aliquotas-de-contribuicao-ao-inss-com-o-aumento-do-salario-minimo\n",
    "\n",
    "\n",
    "print('*'*5, 'OUTROS DESCONTOS', '*'*5)\n",
    "qdt_dependente = 1\n",
    "valor_por_dependente = 189.59 * qdt_dependente\n",
    "print('dependentes =',round(valor_por_dependente, 2),'\\n')\n",
    "\n",
    "\n",
    "print('*'*5, 'I.R.R.F - imposto de renda', '*'*5)\n",
    "IRPF = salario_bruto - INSS - valor_por_dependente\n",
    "print('base calculo =', round(IRPF,2),'\\n')\n",
    "percent_IRRF = 22.5/100\n",
    "print('porcentagem I.R.R.F =', str(round(percent_IRRF*100,2))+'%')\n",
    "deducao_IRRF = 662.77\n",
    "print('Dedução =', round(deducao_IRRF,2))\n",
    "\n",
    "IRRF = (IRPF * percent_IRRF) - deducao_IRRF\n",
    "print('I.R.R.F =', round(IRRF,2),'\\n')\n",
    "# fonte: \" Imposto de Renda: Como calcular na folha de pagamento\" [link = https://youtu.be/NfRrK5WlYNo?si=9NgyBrlDiiSvomdl]\n",
    "# fonte 2: https://www.totvs.com/blog/fiscal-clientes/irrf-nova-tabela-progressiva-2024/\n",
    "\n",
    "\n",
    "print('*'*5, 'VALE TRANSPORTE', '*'*5)\n",
    "percent_vale_transporte = 6/100\n",
    "vale_transporte = salario*percent_vale_transporte\n",
    "print('Vale Transporte =', round(vale_transporte,2),'\\n')\n",
    "\n",
    "\n",
    "print('*'*10, 'TOTAL DESCONTOS', '*'*10)\n",
    "total_descontos = INSS + IRRF + vale_transporte\n",
    "print('total descontos =', round(total_descontos,2), '\\n')\n",
    "\n",
    "\n",
    "print('*'*10, 'SALARIO LIQUIDO', '*'*10)\n",
    "salario_liquido = salario_bruto - total_descontos\n",
    "print('salario liquido =', round(salario_liquido,2))"
   ]
  },
  {
   "cell_type": "markdown",
   "id": "90c1ee2c",
   "metadata": {},
   "source": [
    "# CRIANDO FUNÇÕES DE CALCULOS"
   ]
  },
  {
   "cell_type": "code",
   "execution_count": 152,
   "id": "c5a60c85-bd84-4a4a-bc74-6198c3660b8a",
   "metadata": {},
   "outputs": [
    {
     "name": "stdout",
     "output_type": "stream",
     "text": [
      "********** SALARIO/ENTRADAS **********\n"
     ]
    }
   ],
   "source": [
    "############################################################\n",
    "print('*'*10, 'SALARIO/ENTRADAS', '*'*10)"
   ]
  },
  {
   "cell_type": "code",
   "execution_count": 153,
   "id": "01005009-dc2e-4677-9b3b-237e300ec637",
   "metadata": {},
   "outputs": [
    {
     "name": "stdout",
     "output_type": "stream",
     "text": [
      "salario bruto = 16115.14 \n",
      "\n"
     ]
    }
   ],
   "source": [
    "import random\n",
    "salario_bruto = random.uniform(1412, 20000) # float(input('Digite o valor do salario:'))\n",
    "\n",
    "#adicional_insalubridade = 282.4 # Grau médio\n",
    "#print('insalubridade =', adicional_insalubridade)\n",
    "#fonte: https://genyo.com.br/adicional-de-insalubridade/\n",
    "#salario_bruto += adicional_insalubridade\n",
    "\n",
    "print('salario bruto =', round(salario_bruto,2), '\\n')"
   ]
  },
  {
   "cell_type": "code",
   "execution_count": 154,
   "id": "a4fed238-5b15-4e09-90ce-a75c0603da78",
   "metadata": {},
   "outputs": [
    {
     "name": "stdout",
     "output_type": "stream",
     "text": [
      "********** DESCONTOS/SAIDAS ********** \n",
      "\n"
     ]
    }
   ],
   "source": [
    "############################################################\n",
    "print('*'*10, 'DESCONTOS/SAIDAS', '*'*10,'\\n')"
   ]
  },
  {
   "cell_type": "code",
   "execution_count": 155,
   "id": "e80a0574-ca0c-4c87-8cd2-5167d2b567f4",
   "metadata": {},
   "outputs": [
    {
     "name": "stdout",
     "output_type": "stream",
     "text": [
      "INSS = 908.85\n"
     ]
    }
   ],
   "source": [
    "def calcular_inss(salario):\n",
    "    if salario > 7786.02:\n",
    "        teto_inss = 908.85  # Valor máximo de contribuição do INSS para 2024\n",
    "        return teto_inss\n",
    "    \n",
    "    inss = 0\n",
    "\n",
    "    # primeira parte -> até 1.412,00\n",
    "    if salario <= 1412.00:\n",
    "        inss += salario*(7.5/100)\n",
    "    else:\n",
    "        inss += 1412.00*(7.5/100)\n",
    "\n",
    "    # segunda parte -> 1.412,00 - 2.666,68\n",
    "    if salario > 1412.00 and salario <= 2666.68:\n",
    "        inss += (salario - 1412.00)*(9/100)\n",
    "    elif salario > 2666.68:\n",
    "        inss += (2666.68 - 1412.00)*(9/100)\n",
    "    \n",
    "    # terceira parte -> 2.666,68 - 4.000,03\n",
    "    if salario > 2666.68 and salario <= 4000.03:\n",
    "        inss += (salario - 2666.68)*(12/100)\n",
    "    elif salario > 4000.03:\n",
    "        inss += (4000.03 - 2666.68)*(12/100)\n",
    "    \n",
    "    # quarta parte -> 4.000,03 - 7.786,02\n",
    "    if salario > 4000.03:\n",
    "         inss += (salario - 4000.03)*(14/100)\n",
    "\n",
    "    return round(inss, 2)\n",
    "\n",
    "# Exemplo de uso da função\n",
    "INSS = calcular_inss(salario_bruto)\n",
    "print('INSS =', INSS)\n",
    "# fonte: https://www.bloomberglinea.com.br/2024/02/20/tabela-de-desconto-do-inss-2024-valores-e-como-calcula-los/\n",
    "# fonte: https://www.gov.br/inss/pt-br/assuntos/confira-as-aliquotas-de-contribuicao-ao-inss-com-o-aumento-do-salario-minimo"
   ]
  },
  {
   "cell_type": "code",
   "execution_count": 156,
   "id": "4e1032da-c119-4487-a22f-150c80f5ac51",
   "metadata": {},
   "outputs": [
    {
     "name": "stdout",
     "output_type": "stream",
     "text": [
      "***** OUTROS DESCONTOS *****\n",
      "dependentes = 189.59 \n",
      "\n"
     ]
    }
   ],
   "source": [
    "print('*'*5, 'OUTROS DESCONTOS', '*'*5) # caso tenha dependentes\n",
    "qdt_dependente = 1\n",
    "valor_por_dependente = 189.59 * qdt_dependente\n",
    "print('dependentes =',round(valor_por_dependente, 2),'\\n')"
   ]
  },
  {
   "cell_type": "code",
   "execution_count": 157,
   "id": "85f6ab1b-ed7d-4354-be2a-c93d9550a0e9",
   "metadata": {},
   "outputs": [
    {
     "name": "stdout",
     "output_type": "stream",
     "text": [
      "***** I.R.R.F - imposto de renda *****\n",
      "base calculo = 15016.7 \n",
      "\n",
      "porcentagem I.R.R.F = 27.5%\n",
      "Dedução = 896.0\n",
      "I.R.R.F = 3233.59 \n",
      "\n"
     ]
    }
   ],
   "source": [
    "print('*'*5, 'I.R.R.F - imposto de renda', '*'*5)\n",
    "IRPF = salario_bruto - INSS - valor_por_dependente\n",
    "print('base calculo =', round(IRPF,2),'\\n')\n",
    "def calcular_irrf(salario):\n",
    "    if salario <= 2259.20:\n",
    "        percent_IRRF = 0\n",
    "        deducao_IRRF = 0 \n",
    "\n",
    "    if salario > 2259.20 and salario <= 2862.65:\n",
    "        percent_IRRF = 7.5\n",
    "        deducao_IRRF = 169.44\n",
    "        \n",
    "    if salario > 2862.65 and salario <= 3751.05:\n",
    "        percent_IRRF = 15\n",
    "        deducao_IRRF = 381.44\n",
    "        \n",
    "    if salario > 3751.05 and salario <= 4663.68:\n",
    "        percent_IRRF = 22.5\n",
    "        deducao_IRRF = 662.77\n",
    "        \n",
    "    if salario > 4663.68:\n",
    "        percent_IRRF = 27.5\n",
    "        deducao_IRRF = 896.00\n",
    "\n",
    "    # porcentagem I.R.R.F\n",
    "    percent_IRRF = percent_IRRF/100\n",
    "    # I.R.R.F\n",
    "    IRRF = (salario * percent_IRRF) - deducao_IRRF\n",
    "\n",
    "    return IRRF, percent_IRRF, deducao_IRRF\n",
    "\n",
    "percent_IRRF  = calcular_irrf(IRPF)[1]\n",
    "print('porcentagem I.R.R.F =', str(round(percent_IRRF*100,2))+'%')\n",
    "\n",
    "deducao_IRRF  = calcular_irrf(IRPF)[2]\n",
    "print('Dedução =', round(deducao_IRRF,2))\n",
    "\n",
    "IRRF = calcular_irrf(IRPF)[0]\n",
    "print('I.R.R.F =', round(IRRF,2),'\\n')\n",
    "\n",
    "# fonte: \" Imposto de Renda: Como calcular na folha de pagamento\" [link = https://youtu.be/NfRrK5WlYNo?si=9NgyBrlDiiSvomdl]\n",
    "# fonte 2: https://www.totvs.com/blog/fiscal-clientes/irrf-nova-tabela-progressiva-2024/"
   ]
  },
  {
   "cell_type": "code",
   "execution_count": 158,
   "id": "96b9ea50-d2f2-4557-b295-a7fe49424366",
   "metadata": {},
   "outputs": [
    {
     "name": "stdout",
     "output_type": "stream",
     "text": [
      "***** VALE TRANSPORTE *****\n",
      "Taxa padrão vale transporte 6%\n",
      "Vale Transporte = 966.91 \n",
      "\n"
     ]
    }
   ],
   "source": [
    "print('*'*5, 'VALE TRANSPORTE', '*'*5)\n",
    "percent_vale_transporte = 6/100\n",
    "print('Taxa padrão vale transporte', str(6)+'%')\n",
    "vale_transporte = salario_bruto*percent_vale_transporte\n",
    "print('Vale Transporte =', round(vale_transporte,2),'\\n')"
   ]
  },
  {
   "cell_type": "code",
   "execution_count": 159,
   "id": "e1d11b95-878c-4d13-9ac8-ea41fe635252",
   "metadata": {},
   "outputs": [
    {
     "name": "stdout",
     "output_type": "stream",
     "text": [
      "********** TOTAL DESCONTOS **********\n",
      "total descontos = 5109.35 \n",
      "\n"
     ]
    }
   ],
   "source": [
    "############################################################\n",
    "print('*'*10, 'TOTAL DESCONTOS', '*'*10)\n",
    "total_descontos = INSS + IRRF + vale_transporte\n",
    "print('total descontos =', round(total_descontos,2), '\\n')"
   ]
  },
  {
   "cell_type": "code",
   "execution_count": 160,
   "id": "f36d6072-f823-4f4f-847e-482570fd7876",
   "metadata": {},
   "outputs": [
    {
     "name": "stdout",
     "output_type": "stream",
     "text": [
      "********** SALARIO LIQUIDO **********\n",
      "salario liquido = 11005.79\n"
     ]
    }
   ],
   "source": [
    "############################################################\n",
    "print('*'*10, 'SALARIO LIQUIDO', '*'*10)\n",
    "salario_liquido = salario_bruto - total_descontos\n",
    "print('salario liquido =', round(salario_liquido,2))"
   ]
  },
  {
   "cell_type": "markdown",
   "id": "89865ff4",
   "metadata": {},
   "source": [
    "# PASSANDO LOOP PARA CRIAR TODAS FAIXAS DE SALARIOS (indo de 1.400 R$ Á 20.000 R$)"
   ]
  },
  {
   "cell_type": "code",
   "execution_count": 161,
   "id": "68c7fa5e-622c-4c93-b59d-e76f21285d07",
   "metadata": {},
   "outputs": [
    {
     "data": {
      "text/html": [
       "<div>\n",
       "<style scoped>\n",
       "    .dataframe tbody tr th:only-of-type {\n",
       "        vertical-align: middle;\n",
       "    }\n",
       "\n",
       "    .dataframe tbody tr th {\n",
       "        vertical-align: top;\n",
       "    }\n",
       "\n",
       "    .dataframe thead th {\n",
       "        text-align: right;\n",
       "    }\n",
       "</style>\n",
       "<table border=\"1\" class=\"dataframe\">\n",
       "  <thead>\n",
       "    <tr style=\"text-align: right;\">\n",
       "      <th></th>\n",
       "      <th>salario</th>\n",
       "      <th>salario_bruto</th>\n",
       "      <th>INSS</th>\n",
       "      <th>percent_IRRF</th>\n",
       "      <th>deducao_IRRF</th>\n",
       "      <th>IRRF</th>\n",
       "      <th>total_descontos</th>\n",
       "      <th>salario_liquido</th>\n",
       "    </tr>\n",
       "  </thead>\n",
       "  <tbody>\n",
       "    <tr>\n",
       "      <th>0</th>\n",
       "      <td>1400.0</td>\n",
       "      <td>1400.0</td>\n",
       "      <td>105.00</td>\n",
       "      <td>0.000</td>\n",
       "      <td>0.0</td>\n",
       "      <td>0.00000</td>\n",
       "      <td>105.00000</td>\n",
       "      <td>1295.00000</td>\n",
       "    </tr>\n",
       "    <tr>\n",
       "      <th>1</th>\n",
       "      <td>1500.0</td>\n",
       "      <td>1500.0</td>\n",
       "      <td>113.82</td>\n",
       "      <td>0.000</td>\n",
       "      <td>0.0</td>\n",
       "      <td>0.00000</td>\n",
       "      <td>113.82000</td>\n",
       "      <td>1386.18000</td>\n",
       "    </tr>\n",
       "    <tr>\n",
       "      <th>2</th>\n",
       "      <td>1600.0</td>\n",
       "      <td>1600.0</td>\n",
       "      <td>122.82</td>\n",
       "      <td>0.000</td>\n",
       "      <td>0.0</td>\n",
       "      <td>0.00000</td>\n",
       "      <td>122.82000</td>\n",
       "      <td>1477.18000</td>\n",
       "    </tr>\n",
       "    <tr>\n",
       "      <th>3</th>\n",
       "      <td>1700.0</td>\n",
       "      <td>1700.0</td>\n",
       "      <td>131.82</td>\n",
       "      <td>0.000</td>\n",
       "      <td>0.0</td>\n",
       "      <td>0.00000</td>\n",
       "      <td>131.82000</td>\n",
       "      <td>1568.18000</td>\n",
       "    </tr>\n",
       "    <tr>\n",
       "      <th>4</th>\n",
       "      <td>1800.0</td>\n",
       "      <td>1800.0</td>\n",
       "      <td>140.82</td>\n",
       "      <td>0.000</td>\n",
       "      <td>0.0</td>\n",
       "      <td>0.00000</td>\n",
       "      <td>140.82000</td>\n",
       "      <td>1659.18000</td>\n",
       "    </tr>\n",
       "    <tr>\n",
       "      <th>...</th>\n",
       "      <td>...</td>\n",
       "      <td>...</td>\n",
       "      <td>...</td>\n",
       "      <td>...</td>\n",
       "      <td>...</td>\n",
       "      <td>...</td>\n",
       "      <td>...</td>\n",
       "      <td>...</td>\n",
       "    </tr>\n",
       "    <tr>\n",
       "      <th>182</th>\n",
       "      <td>19600.0</td>\n",
       "      <td>19600.0</td>\n",
       "      <td>908.85</td>\n",
       "      <td>0.275</td>\n",
       "      <td>896.0</td>\n",
       "      <td>4244.06625</td>\n",
       "      <td>5152.91625</td>\n",
       "      <td>14447.08375</td>\n",
       "    </tr>\n",
       "    <tr>\n",
       "      <th>183</th>\n",
       "      <td>19700.0</td>\n",
       "      <td>19700.0</td>\n",
       "      <td>908.85</td>\n",
       "      <td>0.275</td>\n",
       "      <td>896.0</td>\n",
       "      <td>4271.56625</td>\n",
       "      <td>5180.41625</td>\n",
       "      <td>14519.58375</td>\n",
       "    </tr>\n",
       "    <tr>\n",
       "      <th>184</th>\n",
       "      <td>19800.0</td>\n",
       "      <td>19800.0</td>\n",
       "      <td>908.85</td>\n",
       "      <td>0.275</td>\n",
       "      <td>896.0</td>\n",
       "      <td>4299.06625</td>\n",
       "      <td>5207.91625</td>\n",
       "      <td>14592.08375</td>\n",
       "    </tr>\n",
       "    <tr>\n",
       "      <th>185</th>\n",
       "      <td>19900.0</td>\n",
       "      <td>19900.0</td>\n",
       "      <td>908.85</td>\n",
       "      <td>0.275</td>\n",
       "      <td>896.0</td>\n",
       "      <td>4326.56625</td>\n",
       "      <td>5235.41625</td>\n",
       "      <td>14664.58375</td>\n",
       "    </tr>\n",
       "    <tr>\n",
       "      <th>186</th>\n",
       "      <td>20000.0</td>\n",
       "      <td>20000.0</td>\n",
       "      <td>908.85</td>\n",
       "      <td>0.275</td>\n",
       "      <td>896.0</td>\n",
       "      <td>4354.06625</td>\n",
       "      <td>5262.91625</td>\n",
       "      <td>14737.08375</td>\n",
       "    </tr>\n",
       "  </tbody>\n",
       "</table>\n",
       "<p>187 rows × 8 columns</p>\n",
       "</div>"
      ],
      "text/plain": [
       "     salario  salario_bruto    INSS  percent_IRRF  deducao_IRRF        IRRF  \\\n",
       "0     1400.0         1400.0  105.00         0.000           0.0     0.00000   \n",
       "1     1500.0         1500.0  113.82         0.000           0.0     0.00000   \n",
       "2     1600.0         1600.0  122.82         0.000           0.0     0.00000   \n",
       "3     1700.0         1700.0  131.82         0.000           0.0     0.00000   \n",
       "4     1800.0         1800.0  140.82         0.000           0.0     0.00000   \n",
       "..       ...            ...     ...           ...           ...         ...   \n",
       "182  19600.0        19600.0  908.85         0.275         896.0  4244.06625   \n",
       "183  19700.0        19700.0  908.85         0.275         896.0  4271.56625   \n",
       "184  19800.0        19800.0  908.85         0.275         896.0  4299.06625   \n",
       "185  19900.0        19900.0  908.85         0.275         896.0  4326.56625   \n",
       "186  20000.0        20000.0  908.85         0.275         896.0  4354.06625   \n",
       "\n",
       "     total_descontos  salario_liquido  \n",
       "0          105.00000       1295.00000  \n",
       "1          113.82000       1386.18000  \n",
       "2          122.82000       1477.18000  \n",
       "3          131.82000       1568.18000  \n",
       "4          140.82000       1659.18000  \n",
       "..               ...              ...  \n",
       "182       5152.91625      14447.08375  \n",
       "183       5180.41625      14519.58375  \n",
       "184       5207.91625      14592.08375  \n",
       "185       5235.41625      14664.58375  \n",
       "186       5262.91625      14737.08375  \n",
       "\n",
       "[187 rows x 8 columns]"
      ]
     },
     "execution_count": 161,
     "metadata": {},
     "output_type": "execute_result"
    }
   ],
   "source": [
    "df = pd.DataFrame(columns=['salario','salario_bruto',\n",
    "                           'INSS',\n",
    "                           'percent_IRRF','deducao_IRRF','IRRF',\n",
    "                           #'vale_transporte',\n",
    "                           'total_descontos','salario_liquido'])\n",
    "\n",
    "for salario in range(1400, 20100, 100):\n",
    "    #adicional_insalubridade = 282.4\n",
    "    \n",
    "    salario_bruto = salario #+ adicional_insalubridade \n",
    "    \n",
    "    INSS = calcular_inss(salario_bruto)\n",
    "    \n",
    "    qdt_dependente = 0\n",
    "    valor_por_dependente = 189.59 * qdt_dependente\n",
    "\n",
    "    IRPF = salario_bruto - INSS - valor_por_dependente\n",
    "    percent_IRRF  = calcular_irrf(IRPF)[1]\n",
    "    deducao_IRRF  = calcular_irrf(IRPF)[2]\n",
    "    IRRF = calcular_irrf(IRPF)[0]\n",
    "    \n",
    "    percent_vale_transporte = 6/100\n",
    "    #vale_transporte = salario*percent_vale_transporte\n",
    "    \n",
    "    total_descontos = INSS + IRRF #+ vale_transporte\n",
    "    salario_liquido = salario_bruto - total_descontos\n",
    "\n",
    "    df.loc[len(df)] = [salario,salario_bruto,\n",
    "                       INSS,\n",
    "                       percent_IRRF,deducao_IRRF,IRRF,\n",
    "                       #vale_transporte,\n",
    "                       total_descontos,salario_liquido]\n",
    "df"
   ]
  },
  {
   "cell_type": "code",
   "execution_count": 162,
   "id": "f451876a-88c2-4baa-8964-64205aee44c7",
   "metadata": {},
   "outputs": [],
   "source": [
    "# salvando tabela todas faixas de salarios e descontos\n",
    "df.to_excel('dados.xlsx', index=False)"
   ]
  },
  {
   "cell_type": "code",
   "execution_count": 163,
   "id": "689bba9c-3726-454e-8ecc-f1f61731a70b",
   "metadata": {},
   "outputs": [
    {
     "data": {
      "image/png": "[encoded data removed]",
      "text/plain": [
       "<Figure size 700x700 with 1 Axes>"
      ]
     },
     "metadata": {},
     "output_type": "display_data"
    }
   ],
   "source": [
    "plt.figure(figsize=(7, 7))\n",
    "plt.plot(df.index, df['salario_bruto'], label='Salário Total', color='blue', marker='o', linestyle='-')\n",
    "plt.plot(df.index, df['salario_liquido'], label='Salário Líquido', color='green', marker='s', linestyle='-')\n",
    "\n",
    "plt.title('Comparativo entre Salário Total e Salário Líquido')\n",
    "plt.xlabel('Índice'); plt.ylabel('Valor em R$')\n",
    "\n",
    "plt.legend()\n",
    "plt.grid(True)\n",
    "plt.show()"
   ]
  },
  {
   "cell_type": "code",
   "execution_count": 164,
   "id": "5179b610-eab3-49fb-8587-3c079db8b375",
   "metadata": {},
   "outputs": [
    {
     "data": {
      "image/png": "[encoded data removed]",
      "text/plain": [
       "<Figure size 700x700 with 1 Axes>"
      ]
     },
     "metadata": {},
     "output_type": "display_data"
    }
   ],
   "source": [
    "plt.figure(figsize=(7, 7))\n",
    "plt.scatter(df['salario_bruto'], df['salario_liquido'], color='red', marker='o')\n",
    "\n",
    "plt.title('Relação de F(Salário Bruto) = Salário Líquido')\n",
    "plt.xlabel('Salário Total (R$)'); plt.ylabel('Salário Líquido (R$)')\n",
    "\n",
    "minimo = min(pd.concat([df['salario_bruto'], df['salario_liquido']]))\n",
    "maximo = max(pd.concat([df['salario_bruto'], df['salario_liquido']]))\n",
    "plt.xlim(minimo, maximo)\n",
    "plt.ylim(minimo, maximo)\n",
    "\n",
    "plt.grid(True)\n",
    "plt.show()"
   ]
  },
  {
   "cell_type": "code",
   "execution_count": null,
   "id": "d210459d",
   "metadata": {},
   "outputs": [],
   "source": []
  },
  {
   "cell_type": "code",
   "execution_count": null,
   "id": "44ebb61e",
   "metadata": {},
   "outputs": [],
   "source": []
  },
  {
   "cell_type": "code",
   "execution_count": null,
   "id": "fbd5421a",
   "metadata": {},
   "outputs": [],
   "source": []
  },
  {
   "cell_type": "code",
   "execution_count": null,
   "id": "d6f799d8",
   "metadata": {},
   "outputs": [],
   "source": []
  },
  {
   "cell_type": "code",
   "execution_count": null,
   "id": "25b71361",
   "metadata": {},
   "outputs": [],
   "source": []
  }
 ],
 "metadata": {
  "kernelspec": {
   "display_name": "Python 3 (ipykernel)",
   "language": "python",
   "name": "python3"
  },
  "language_info": {
   "codemirror_mode": {
    "name": "ipython",
    "version": 3
   },
   "file_extension": ".py",
   "mimetype": "text/x-python",
   "name": "python",
   "nbconvert_exporter": "python",
   "pygments_lexer": "ipython3",
   "version": "3.11.7"
  }
 },
 "nbformat": 4,
 "nbformat_minor": 5
}
