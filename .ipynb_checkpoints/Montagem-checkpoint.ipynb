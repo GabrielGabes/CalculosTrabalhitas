{
 "cells": [
  {
   "cell_type": "code",
   "execution_count": 1,
   "id": "d3a4e67d-2b30-4bab-8f9b-8aa2d2f77064",
   "metadata": {},
   "outputs": [],
   "source": [
    "import pandas as pd\n",
    "import numpy as np\n",
    "\n",
    "import matplotlib.pyplot as plt\n",
    "import matplotlib.dates as mdates\n",
    "import seaborn as sns\n",
    "#plt.style.use('dark_background')\n",
    "plt.style.use('seaborn-v0_8-whitegrid')\n",
    "import matplotlib.cm as cm\n",
    "#import matplotlib.font_manager as fm #para alterar as fontes dos graficos\n",
    "#fonte = fm.FontProperties(family=\"Calibri\", style=\"italic\")\n",
    "%matplotlib inline\n",
    "\n",
    "#ignorando Warning inuteis\n",
    "import warnings \n",
    "from pandas.errors import SettingWithCopyWarning\n",
    "warnings.simplefilter(action=\"ignore\", category=SettingWithCopyWarning)\n",
    "warnings.filterwarnings('ignore', category=FutureWarning)\n",
    "warnings.filterwarnings(\"ignore\", category=UserWarning, module='sklearn.cluster._kmeans')"
   ]
  },
  {
   "cell_type": "code",
   "execution_count": 2,
   "id": "362ce05b-e4c8-4e52-b2e6-36d4d7fd7a89",
   "metadata": {},
   "outputs": [
    {
     "name": "stdout",
     "output_type": "stream",
     "text": [
      "********** SALARIO/ENTRADAS **********\n",
      "salario = 4300.0\n",
      "insalubridade = 282.4\n",
      "salario bruto = 4583.27 \n",
      "\n",
      "********** DESCONTOS/SAIDAS ********** \n",
      "\n",
      "***** INSS *****\n",
      "faixa de desconto INSS: ( 105.9 ; 112.92 ; 160.0 ; 81.53 )\n",
      "INSS = 460.35 \n",
      "\n",
      "***** OUTROS DESCONTOS *****\n",
      "dependentes = 189.59 \n",
      "\n",
      "***** I.R.R.F - imposto de renda *****\n",
      "base calculo = 3933.33 \n",
      "\n",
      "porcentagem I.R.R.F = 22.5%\n",
      "Dedução = 662.77\n",
      "I.R.R.F = 222.23 \n",
      "\n",
      "***** VALE TRANSPORTE *****\n",
      "Vale Transporte = 258.0 \n",
      "\n",
      "********** TOTAL DESCONTOS **********\n",
      "total descontos = 940.58 \n",
      "\n",
      "********** SALARIO LIQUIDO **********\n",
      "salario liquido = 3642.69\n"
     ]
    }
   ],
   "source": [
    "############################################################\n",
    "print('*'*10, 'SALARIO/ENTRADAS', '*'*10)\n",
    "\n",
    "\n",
    "salario = 4300.00\n",
    "print('salario =', round(salario,2))\n",
    "\n",
    "adicional_insalubridade = 282.4 # Grau médio\n",
    "print('insalubridade =', adicional_insalubridade)\n",
    "#fonte: https://genyo.com.br/adicional-de-insalubridade/\n",
    "\n",
    "arredond_mes = 0.87\n",
    "\n",
    "salario_total_0 = salario + adicional_insalubridade\n",
    "salario_total = salario + adicional_insalubridade + arredond_mes\n",
    "print('salario bruto =', round(salario_total,2), '\\n')\n",
    "\n",
    "\n",
    "############################################################\n",
    "print('*'*10, 'DESCONTOS/SAIDAS', '*'*10,'\\n')\n",
    "\n",
    "\n",
    "print('*'*5, 'INSS', '*'*5)\n",
    "# primeira parte -> até 1.412,00\n",
    "p1 = 1412*(7.5/100)\n",
    "# segunda parte -> 1.412,00 - 2.666,68\n",
    "p2 = (2666.68 - 1412.00)*(9/100)\n",
    "# terceira parte -> 2.666,68 - 4.000,03\n",
    "p3 = (4000.03 - 2666.68)*(12/100)\n",
    "# quarta parte -> 4.000,03 - 7.786,02\n",
    "p4 = (salario_total_0 - 4000.03)*(14/100)\n",
    "print('faixa de desconto INSS: (', round(p1,2),';', round(p2,2),';', round(p3,2),';', round(p4,2), ')')\n",
    "\n",
    "INSS = round(p1+p2+p3+p4, 2)\n",
    "print('INSS =', INSS,'\\n')\n",
    "# fonte: https://www.bloomberglinea.com.br/2024/02/20/tabela-de-desconto-do-inss-2024-valores-e-como-calcula-los/\n",
    "# fonte: https://www.gov.br/inss/pt-br/assuntos/confira-as-aliquotas-de-contribuicao-ao-inss-com-o-aumento-do-salario-minimo\n",
    "\n",
    "\n",
    "print('*'*5, 'OUTROS DESCONTOS', '*'*5)\n",
    "qdt_dependente = 1\n",
    "valor_por_dependente = 189.59 * qdt_dependente\n",
    "print('dependentes =',round(valor_por_dependente, 2),'\\n')\n",
    "\n",
    "\n",
    "print('*'*5, 'I.R.R.F - imposto de renda', '*'*5)\n",
    "IRPF = salario_total - INSS - valor_por_dependente\n",
    "print('base calculo =', round(IRPF,2),'\\n')\n",
    "percent_IRRF = 22.5/100\n",
    "print('porcentagem I.R.R.F =', str(round(percent_IRRF*100,2))+'%')\n",
    "deducao_IRRF = 662.77\n",
    "print('Dedução =', round(deducao_IRRF,2))\n",
    "\n",
    "IRRF = (IRPF * percent_IRRF) - deducao_IRRF\n",
    "print('I.R.R.F =', round(IRRF,2),'\\n')\n",
    "# fonte: \" Imposto de Renda: Como calcular na folha de pagamento\" [link = https://youtu.be/NfRrK5WlYNo?si=9NgyBrlDiiSvomdl]\n",
    "# fonte 2: https://www.totvs.com/blog/fiscal-clientes/irrf-nova-tabela-progressiva-2024/\n",
    "\n",
    "print('*'*5, 'VALE TRANSPORTE', '*'*5)\n",
    "percent_vale_transporte = 6/100\n",
    "vale_transporte = salario*percent_vale_transporte\n",
    "print('Vale Transporte =', round(vale_transporte,2),'\\n')\n",
    "\n",
    "\n",
    "\n",
    "print('*'*10, 'TOTAL DESCONTOS', '*'*10)\n",
    "total_descontos = INSS + IRRF + vale_transporte\n",
    "print('total descontos =', round(total_descontos,2), '\\n')\n",
    "\n",
    "\n",
    "\n",
    "print('*'*10, 'SALARIO LIQUIDO', '*'*10)\n",
    "salario_liquido = salario_total - total_descontos\n",
    "print('salario liquido =', round(salario_liquido,2))"
   ]
  },
  {
   "cell_type": "markdown",
   "id": "f4dcf5f7-e323-465b-bf5c-4ad32e99006d",
   "metadata": {},
   "source": [
    "# ================================="
   ]
  },
  {
   "cell_type": "code",
   "execution_count": 3,
   "id": "c5a60c85-bd84-4a4a-bc74-6198c3660b8a",
   "metadata": {},
   "outputs": [
    {
     "name": "stdout",
     "output_type": "stream",
     "text": [
      "********** SALARIO/ENTRADAS **********\n"
     ]
    }
   ],
   "source": [
    "############################################################\n",
    "print('*'*10, 'SALARIO/ENTRADAS', '*'*10)"
   ]
  },
  {
   "cell_type": "code",
   "execution_count": 4,
   "id": "01005009-dc2e-4677-9b3b-237e300ec637",
   "metadata": {},
   "outputs": [
    {
     "name": "stdin",
     "output_type": "stream",
     "text": [
      "Digite o valor do salario: 4500\n"
     ]
    },
    {
     "name": "stdout",
     "output_type": "stream",
     "text": [
      "salario = 4500.0\n",
      "insalubridade = 282.4\n",
      "salario bruto = 4783.27 \n",
      "\n"
     ]
    }
   ],
   "source": [
    "salario = float(input('Digite o valor do salario:')) #4300.00\n",
    "print('salario =', round(salario,2))\n",
    "\n",
    "adicional_insalubridade = 282.4 # Grau médio\n",
    "print('insalubridade =', adicional_insalubridade)\n",
    "#fonte: https://genyo.com.br/adicional-de-insalubridade/\n",
    "\n",
    "arredond_mes = 0.87\n",
    "\n",
    "salario_total_0 = salario #+ adicional_insalubridade\n",
    "salario_total = salario + arredond_mes #+ adicional_insalubridade\n",
    "print('salario bruto =', round(salario_total,2), '\\n')"
   ]
  },
  {
   "cell_type": "code",
   "execution_count": 5,
   "id": "a4fed238-5b15-4e09-90ce-a75c0603da78",
   "metadata": {},
   "outputs": [
    {
     "name": "stdout",
     "output_type": "stream",
     "text": [
      "********** DESCONTOS/SAIDAS ********** \n",
      "\n"
     ]
    }
   ],
   "source": [
    "############################################################\n",
    "print('*'*10, 'DESCONTOS/SAIDAS', '*'*10,'\\n')"
   ]
  },
  {
   "cell_type": "code",
   "execution_count": 6,
   "id": "e80a0574-ca0c-4c87-8cd2-5167d2b567f4",
   "metadata": {},
   "outputs": [
    {
     "name": "stdout",
     "output_type": "stream",
     "text": [
      "INSS = 488.35\n"
     ]
    }
   ],
   "source": [
    "def calcular_inss(salario):\n",
    "    inss = 0\n",
    "    \n",
    "    # primeira parte -> até 1.412,00\n",
    "    if salario <= 1412.00:\n",
    "        inss += salario*(7.5/100)\n",
    "    else:\n",
    "        inss += 1412.00*(7.5/100)\n",
    "\n",
    "    # segunda parte -> 1.412,00 - 2.666,68\n",
    "    if salario > 1412.00 and salario <= 2666.68:\n",
    "        inss += (salario - 1412.00)*(9/100)\n",
    "    elif salario > 2666.68:\n",
    "        inss += (2666.68 - 1412.00)*(9/100)\n",
    "    \n",
    "    # terceira parte -> 2.666,68 - 4.000,03\n",
    "    if salario > 2666.68 and salario <= 4000.03:\n",
    "        inss += (salario - 2666.68)*(12/100)\n",
    "    elif salario > 4000.03:\n",
    "        inss += (4000.03 - 2666.68)*(12/100)\n",
    "    \n",
    "    # quarta parte -> 4.000,03 - 7.786,02\n",
    "    if salario > 4000.03:\n",
    "         inss += (salario - 4000.03)*(14/100)\n",
    "\n",
    "    return round(inss, 2)\n",
    "\n",
    "# Exemplo de uso da função\n",
    "INSS = calcular_inss(salario_total_0)\n",
    "print('INSS =', INSS)\n",
    "# fonte: https://www.bloomberglinea.com.br/2024/02/20/tabela-de-desconto-do-inss-2024-valores-e-como-calcula-los/\n",
    "# fonte: https://www.gov.br/inss/pt-br/assuntos/confira-as-aliquotas-de-contribuicao-ao-inss-com-o-aumento-do-salario-minimo"
   ]
  },
  {
   "cell_type": "code",
   "execution_count": 7,
   "id": "4e1032da-c119-4487-a22f-150c80f5ac51",
   "metadata": {},
   "outputs": [
    {
     "name": "stdout",
     "output_type": "stream",
     "text": [
      "***** OUTROS DESCONTOS *****\n",
      "dependentes = 189.59 \n",
      "\n"
     ]
    }
   ],
   "source": [
    "print('*'*5, 'OUTROS DESCONTOS', '*'*5)\n",
    "qdt_dependente = 1\n",
    "valor_por_dependente = 189.59 * qdt_dependente\n",
    "print('dependentes =',round(valor_por_dependente, 2),'\\n')"
   ]
  },
  {
   "cell_type": "code",
   "execution_count": 8,
   "id": "85f6ab1b-ed7d-4354-be2a-c93d9550a0e9",
   "metadata": {},
   "outputs": [
    {
     "name": "stdout",
     "output_type": "stream",
     "text": [
      "***** I.R.R.F - imposto de renda *****\n",
      "base calculo = 4105.33 \n",
      "\n",
      "porcentagem I.R.R.F = 22.5%\n",
      "Dedução = 662.77\n",
      "I.R.R.F = 260.93 \n",
      "\n"
     ]
    }
   ],
   "source": [
    "print('*'*5, 'I.R.R.F - imposto de renda', '*'*5)\n",
    "IRPF = salario_total - INSS - valor_por_dependente\n",
    "print('base calculo =', round(IRPF,2),'\\n')\n",
    "def calcular_irrf(salario):\n",
    "    if salario <= 2259.20:\n",
    "        percent_IRRF = 0\n",
    "        deducao_IRRF = 0 \n",
    "\n",
    "    if salario > 2259.20 and salario <= 2862.65:\n",
    "        percent_IRRF = 7.5\n",
    "        deducao_IRRF = 169.44\n",
    "        \n",
    "    if salario > 2862.65 and salario <= 3751.05:\n",
    "        percent_IRRF = 15\n",
    "        deducao_IRRF = 381.44\n",
    "        \n",
    "    if salario > 3751.05 and salario <= 4663.68:\n",
    "        percent_IRRF = 22.5\n",
    "        deducao_IRRF = 662.77\n",
    "        \n",
    "    if salario > 4663.68:\n",
    "        percent_IRRF = 27.5\n",
    "        deducao_IRRF = 896.00\n",
    "\n",
    "    # porcentagem I.R.R.F\n",
    "    percent_IRRF = percent_IRRF/100\n",
    "    # I.R.R.F\n",
    "    IRRF = (salario * percent_IRRF) - deducao_IRRF\n",
    "\n",
    "    return IRRF, percent_IRRF, deducao_IRRF\n",
    "\n",
    "percent_IRRF  = calcular_irrf(IRPF)[1]\n",
    "print('porcentagem I.R.R.F =', str(round(percent_IRRF*100,2))+'%')\n",
    "\n",
    "deducao_IRRF  = calcular_irrf(IRPF)[2]\n",
    "print('Dedução =', round(deducao_IRRF,2))\n",
    "\n",
    "IRRF = calcular_irrf(IRPF)[0]\n",
    "print('I.R.R.F =', round(IRRF,2),'\\n')\n",
    "\n",
    "# fonte: \" Imposto de Renda: Como calcular na folha de pagamento\" [link = https://youtu.be/NfRrK5WlYNo?si=9NgyBrlDiiSvomdl]\n",
    "# fonte 2: https://www.totvs.com/blog/fiscal-clientes/irrf-nova-tabela-progressiva-2024/"
   ]
  },
  {
   "cell_type": "code",
   "execution_count": 9,
   "id": "96b9ea50-d2f2-4557-b295-a7fe49424366",
   "metadata": {},
   "outputs": [
    {
     "name": "stdout",
     "output_type": "stream",
     "text": [
      "***** VALE TRANSPORTE *****\n",
      "Taxa padrão vale transporte 6%\n",
      "Vale Transporte = 270.0 \n",
      "\n"
     ]
    }
   ],
   "source": [
    "print('*'*5, 'VALE TRANSPORTE', '*'*5)\n",
    "percent_vale_transporte = 6/100\n",
    "print('Taxa padrão vale transporte', str(6)+'%')\n",
    "vale_transporte = salario*percent_vale_transporte\n",
    "print('Vale Transporte =', round(vale_transporte,2),'\\n')"
   ]
  },
  {
   "cell_type": "code",
   "execution_count": 10,
   "id": "e1d11b95-878c-4d13-9ac8-ea41fe635252",
   "metadata": {},
   "outputs": [
    {
     "name": "stdout",
     "output_type": "stream",
     "text": [
      "********** TOTAL DESCONTOS **********\n",
      "total descontos = 1019.28 \n",
      "\n"
     ]
    }
   ],
   "source": [
    "############################################################\n",
    "print('*'*10, 'TOTAL DESCONTOS', '*'*10)\n",
    "total_descontos = INSS + IRRF + vale_transporte\n",
    "print('total descontos =', round(total_descontos,2), '\\n')"
   ]
  },
  {
   "cell_type": "code",
   "execution_count": 11,
   "id": "f36d6072-f823-4f4f-847e-482570fd7876",
   "metadata": {},
   "outputs": [
    {
     "name": "stdout",
     "output_type": "stream",
     "text": [
      "********** SALARIO LIQUIDO **********\n",
      "salario liquido = 3763.99\n"
     ]
    }
   ],
   "source": [
    "############################################################\n",
    "print('*'*10, 'SALARIO LIQUIDO', '*'*10)\n",
    "salario_liquido = salario_total - total_descontos\n",
    "print('salario liquido =', round(salario_liquido,2))"
   ]
  },
  {
   "cell_type": "markdown",
   "id": "96088d1b-17bd-49ca-baf1-a0c4f5611209",
   "metadata": {},
   "source": [
    "# ================================="
   ]
  },
  {
   "cell_type": "code",
   "execution_count": 12,
   "id": "68c7fa5e-622c-4c93-b59d-e76f21285d07",
   "metadata": {},
   "outputs": [
    {
     "data": {
      "text/html": [
       "<div>\n",
       "<style scoped>\n",
       "    .dataframe tbody tr th:only-of-type {\n",
       "        vertical-align: middle;\n",
       "    }\n",
       "\n",
       "    .dataframe tbody tr th {\n",
       "        vertical-align: top;\n",
       "    }\n",
       "\n",
       "    .dataframe thead th {\n",
       "        text-align: right;\n",
       "    }\n",
       "</style>\n",
       "<table border=\"1\" class=\"dataframe\">\n",
       "  <thead>\n",
       "    <tr style=\"text-align: right;\">\n",
       "      <th></th>\n",
       "      <th>salario</th>\n",
       "      <th>salario_total</th>\n",
       "      <th>INSS</th>\n",
       "      <th>percent_IRRF</th>\n",
       "      <th>deducao_IRRF</th>\n",
       "      <th>IRRF</th>\n",
       "      <th>vale_transporte</th>\n",
       "      <th>total_descontos</th>\n",
       "      <th>salario_liquido</th>\n",
       "    </tr>\n",
       "  </thead>\n",
       "  <tbody>\n",
       "    <tr>\n",
       "      <th>0</th>\n",
       "      <td>1400.0</td>\n",
       "      <td>1400.87</td>\n",
       "      <td>105.00</td>\n",
       "      <td>0.000</td>\n",
       "      <td>0.0</td>\n",
       "      <td>0.00000</td>\n",
       "      <td>0.0</td>\n",
       "      <td>105.00000</td>\n",
       "      <td>1295.87000</td>\n",
       "    </tr>\n",
       "    <tr>\n",
       "      <th>1</th>\n",
       "      <td>1500.0</td>\n",
       "      <td>1500.87</td>\n",
       "      <td>113.82</td>\n",
       "      <td>0.000</td>\n",
       "      <td>0.0</td>\n",
       "      <td>0.00000</td>\n",
       "      <td>0.0</td>\n",
       "      <td>113.82000</td>\n",
       "      <td>1387.05000</td>\n",
       "    </tr>\n",
       "    <tr>\n",
       "      <th>2</th>\n",
       "      <td>1600.0</td>\n",
       "      <td>1600.87</td>\n",
       "      <td>122.82</td>\n",
       "      <td>0.000</td>\n",
       "      <td>0.0</td>\n",
       "      <td>0.00000</td>\n",
       "      <td>0.0</td>\n",
       "      <td>122.82000</td>\n",
       "      <td>1478.05000</td>\n",
       "    </tr>\n",
       "    <tr>\n",
       "      <th>3</th>\n",
       "      <td>1700.0</td>\n",
       "      <td>1700.87</td>\n",
       "      <td>131.82</td>\n",
       "      <td>0.000</td>\n",
       "      <td>0.0</td>\n",
       "      <td>0.00000</td>\n",
       "      <td>0.0</td>\n",
       "      <td>131.82000</td>\n",
       "      <td>1569.05000</td>\n",
       "    </tr>\n",
       "    <tr>\n",
       "      <th>4</th>\n",
       "      <td>1800.0</td>\n",
       "      <td>1800.87</td>\n",
       "      <td>140.82</td>\n",
       "      <td>0.000</td>\n",
       "      <td>0.0</td>\n",
       "      <td>0.00000</td>\n",
       "      <td>0.0</td>\n",
       "      <td>140.82000</td>\n",
       "      <td>1660.05000</td>\n",
       "    </tr>\n",
       "    <tr>\n",
       "      <th>...</th>\n",
       "      <td>...</td>\n",
       "      <td>...</td>\n",
       "      <td>...</td>\n",
       "      <td>...</td>\n",
       "      <td>...</td>\n",
       "      <td>...</td>\n",
       "      <td>...</td>\n",
       "      <td>...</td>\n",
       "      <td>...</td>\n",
       "    </tr>\n",
       "    <tr>\n",
       "      <th>181</th>\n",
       "      <td>19500.0</td>\n",
       "      <td>19500.87</td>\n",
       "      <td>2548.82</td>\n",
       "      <td>0.275</td>\n",
       "      <td>896.0</td>\n",
       "      <td>3765.81375</td>\n",
       "      <td>0.0</td>\n",
       "      <td>6314.63375</td>\n",
       "      <td>13186.23625</td>\n",
       "    </tr>\n",
       "    <tr>\n",
       "      <th>182</th>\n",
       "      <td>19600.0</td>\n",
       "      <td>19600.87</td>\n",
       "      <td>2562.82</td>\n",
       "      <td>0.275</td>\n",
       "      <td>896.0</td>\n",
       "      <td>3789.46375</td>\n",
       "      <td>0.0</td>\n",
       "      <td>6352.28375</td>\n",
       "      <td>13248.58625</td>\n",
       "    </tr>\n",
       "    <tr>\n",
       "      <th>183</th>\n",
       "      <td>19700.0</td>\n",
       "      <td>19700.87</td>\n",
       "      <td>2576.82</td>\n",
       "      <td>0.275</td>\n",
       "      <td>896.0</td>\n",
       "      <td>3813.11375</td>\n",
       "      <td>0.0</td>\n",
       "      <td>6389.93375</td>\n",
       "      <td>13310.93625</td>\n",
       "    </tr>\n",
       "    <tr>\n",
       "      <th>184</th>\n",
       "      <td>19800.0</td>\n",
       "      <td>19800.87</td>\n",
       "      <td>2590.82</td>\n",
       "      <td>0.275</td>\n",
       "      <td>896.0</td>\n",
       "      <td>3836.76375</td>\n",
       "      <td>0.0</td>\n",
       "      <td>6427.58375</td>\n",
       "      <td>13373.28625</td>\n",
       "    </tr>\n",
       "    <tr>\n",
       "      <th>185</th>\n",
       "      <td>19900.0</td>\n",
       "      <td>19900.87</td>\n",
       "      <td>2604.82</td>\n",
       "      <td>0.275</td>\n",
       "      <td>896.0</td>\n",
       "      <td>3860.41375</td>\n",
       "      <td>0.0</td>\n",
       "      <td>6465.23375</td>\n",
       "      <td>13435.63625</td>\n",
       "    </tr>\n",
       "  </tbody>\n",
       "</table>\n",
       "<p>186 rows × 9 columns</p>\n",
       "</div>"
      ],
      "text/plain": [
       "     salario  salario_total     INSS  percent_IRRF  deducao_IRRF        IRRF  \\\n",
       "0     1400.0        1400.87   105.00         0.000           0.0     0.00000   \n",
       "1     1500.0        1500.87   113.82         0.000           0.0     0.00000   \n",
       "2     1600.0        1600.87   122.82         0.000           0.0     0.00000   \n",
       "3     1700.0        1700.87   131.82         0.000           0.0     0.00000   \n",
       "4     1800.0        1800.87   140.82         0.000           0.0     0.00000   \n",
       "..       ...            ...      ...           ...           ...         ...   \n",
       "181  19500.0       19500.87  2548.82         0.275         896.0  3765.81375   \n",
       "182  19600.0       19600.87  2562.82         0.275         896.0  3789.46375   \n",
       "183  19700.0       19700.87  2576.82         0.275         896.0  3813.11375   \n",
       "184  19800.0       19800.87  2590.82         0.275         896.0  3836.76375   \n",
       "185  19900.0       19900.87  2604.82         0.275         896.0  3860.41375   \n",
       "\n",
       "     vale_transporte  total_descontos  salario_liquido  \n",
       "0                0.0        105.00000       1295.87000  \n",
       "1                0.0        113.82000       1387.05000  \n",
       "2                0.0        122.82000       1478.05000  \n",
       "3                0.0        131.82000       1569.05000  \n",
       "4                0.0        140.82000       1660.05000  \n",
       "..               ...              ...              ...  \n",
       "181              0.0       6314.63375      13186.23625  \n",
       "182              0.0       6352.28375      13248.58625  \n",
       "183              0.0       6389.93375      13310.93625  \n",
       "184              0.0       6427.58375      13373.28625  \n",
       "185              0.0       6465.23375      13435.63625  \n",
       "\n",
       "[186 rows x 9 columns]"
      ]
     },
     "execution_count": 12,
     "metadata": {},
     "output_type": "execute_result"
    }
   ],
   "source": [
    "df = pd.DataFrame(columns=['salario','salario_total',\n",
    "                           'INSS',\n",
    "                           'percent_IRRF','deducao_IRRF','IRRF',\n",
    "                           'vale_transporte',\n",
    "                           'total_descontos','salario_liquido'])\n",
    "\n",
    "for salario in range(1400, 20000, 100):\n",
    "    adicional_insalubridade = 282.4\n",
    "    arredond_mes = 0.87\n",
    "    \n",
    "    salario_total_0 = salario #+ adicional_insalubridade\n",
    "    salario_total = salario + arredond_mes #+ adicional_insalubridade \n",
    "    \n",
    "    INSS = calcular_inss(salario_total_0)\n",
    "    \n",
    "    qdt_dependente = 0\n",
    "    valor_por_dependente = 189.59 * qdt_dependente\n",
    "\n",
    "    IRPF = salario_total - INSS - valor_por_dependente\n",
    "    percent_IRRF  = calcular_irrf(IRPF)[1]\n",
    "    deducao_IRRF  = calcular_irrf(IRPF)[2]\n",
    "    IRRF = calcular_irrf(IRPF)[0]\n",
    "    \n",
    "    percent_vale_transporte = 0 #6/100\n",
    "    vale_transporte = salario*percent_vale_transporte\n",
    "    \n",
    "    total_descontos = INSS + IRRF + vale_transporte\n",
    "    salario_liquido = salario_total - total_descontos\n",
    "\n",
    "    df.loc[len(df)] = [salario,salario_total,\n",
    "                       INSS,\n",
    "                       percent_IRRF,deducao_IRRF,IRRF,\n",
    "                       vale_transporte,\n",
    "                       total_descontos,salario_liquido]\n",
    "df"
   ]
  },
  {
   "cell_type": "code",
   "execution_count": 15,
   "id": "60d4b89f-2195-4e85-a0ab-a80e3d5a6bef",
   "metadata": {},
   "outputs": [],
   "source": [
    "df = df.drop('vale_transporte', axis = 1)"
   ]
  },
  {
   "cell_type": "code",
   "execution_count": 16,
   "id": "f451876a-88c2-4baa-8964-64205aee44c7",
   "metadata": {},
   "outputs": [],
   "source": [
    "df.to_excel('Faixas salariais - MARCO VÉIO.xlsx', index=False)"
   ]
  },
  {
   "cell_type": "code",
   "execution_count": null,
   "id": "689bba9c-3726-454e-8ecc-f1f61731a70b",
   "metadata": {},
   "outputs": [],
   "source": [
    "plt.figure(figsize=(7, 7))\n",
    "plt.plot(df.index, df['salario_total'], label='Salário Total', color='blue', marker='o', linestyle='-')\n",
    "plt.plot(df.index, df['salario_liquido'], label='Salário Líquido', color='green', marker='s', linestyle='-')\n",
    "\n",
    "plt.title('Comparativo entre Salário Total e Salário Líquido')\n",
    "plt.xlabel('Índice'); plt.ylabel('Valor em R$')\n",
    "\n",
    "plt.legend()\n",
    "plt.grid(True)\n",
    "plt.show()"
   ]
  },
  {
   "cell_type": "code",
   "execution_count": null,
   "id": "5179b610-eab3-49fb-8587-3c079db8b375",
   "metadata": {},
   "outputs": [],
   "source": [
    "plt.figure(figsize=(7, 7))\n",
    "plt.scatter(df['salario_liquido'], df['salario_total'], color='red', marker='o')\n",
    "\n",
    "plt.title('Relação do Salário Líquido no Eixo X e Y')\n",
    "plt.xlabel('Salário Líquido (R$)'); plt.ylabel('Salário Total (R$)')\n",
    "\n",
    "minimo = min(pd.concat([df['salario_liquido'], df['salario_total']]))\n",
    "maximo = max(pd.concat([df['salario_liquido'], df['salario_total']]))\n",
    "plt.xlim(minimo, maximo)\n",
    "plt.ylim(minimo, maximo)\n",
    "\n",
    "plt.grid(True)\n",
    "plt.show()"
   ]
  },
  {
   "cell_type": "code",
   "execution_count": null,
   "id": "ce72b061-8838-471b-a0d7-bcac5b0bd3e0",
   "metadata": {},
   "outputs": [],
   "source": []
  }
 ],
 "metadata": {
  "kernelspec": {
   "display_name": "Python 3 (ipykernel)",
   "language": "python",
   "name": "python3"
  },
  "language_info": {
   "codemirror_mode": {
    "name": "ipython",
    "version": 3
   },
   "file_extension": ".py",
   "mimetype": "text/x-python",
   "name": "python",
   "nbconvert_exporter": "python",
   "pygments_lexer": "ipython3",
   "version": "3.11.7"
  }
 },
 "nbformat": 4,
 "nbformat_minor": 5
}
